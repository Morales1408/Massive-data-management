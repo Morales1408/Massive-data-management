{
 "cells": [
  {
   "cell_type": "markdown",
   "metadata": {},
   "source": [
    "# A questionary on the first two chapters\n",
    "\n",
    "\n",
    "by Mario Morales ;) "
   ]
  },
  {
   "cell_type": "markdown",
   "metadata": {},
   "source": [
    "## Chapter N. 1 "
   ]
  },
  {
   "cell_type": "markdown",
   "metadata": {},
   "source": [
    "##### 1.- In very first example you were told to create a database that will track the user's internet activity... why didn't the relational architecture work? "
   ]
  },
  {
   "cell_type": "markdown",
   "metadata": {},
   "source": [
    "Everything was just fine, the problem was that the number of users was on the increase so the input data; that was the reason for the code to break. The number of requests wasn't thought of big data.\n",
    "It was a pretty good example of the necessity for thinking on big data management architectures."
   ]
  },
  {
   "cell_type": "markdown",
   "metadata": {},
   "source": [
    "###### 2. In which scenario is hadoop a bad tool for a big data architecture? "
   ]
  },
  {
   "cell_type": "markdown",
   "metadata": {},
   "source": [
    "Hadoop can parallelize large-scale batch computations on very large amounts of data, but it has a high latency. \n",
    "In case you want low-latency results, Hadoop might no be the one to use"
   ]
  },
  {
   "cell_type": "markdown",
   "metadata": {},
   "source": [
    "###### 3. What does the lambda architecture do?"
   ]
  },
  {
   "cell_type": "markdown",
   "metadata": {},
   "source": [
    "Provides a general-purpose approach to implementing an arbitrary function on an arbitrary dataset and having the function return its results with a low latency."
   ]
  },
  {
   "cell_type": "markdown",
   "metadata": {},
   "source": [
    "##### 4. What properties should be the ones to seek in a big data system?"
   ]
  },
  {
   "cell_type": "markdown",
   "metadata": {},
   "source": [
    "The properties are as much as complexity as they are about scalability. A big data system must persorm well and be resource-sfficient, it must be easy to reason about as well.\n",
    "In a general idea, the characteristics a big data system should have to be concider efficient are: \n",
    "* Robustness and fault tolerance \n",
    "* Low latency reads and updates\n",
    "* Scalability\n",
    "* Generallzation\n",
    "* Extensibility\n",
    "* Minimal maintenance\n",
    "* Debuggability"
   ]
  },
  {
   "cell_type": "markdown",
   "metadata": {},
   "source": [
    "###### 5. What is the main idea behind Lambda Architecure? "
   ]
  },
  {
   "cell_type": "markdown",
   "metadata": {},
   "source": [
    "To buid Big Data systems as a series of layers. Each layer is to satisfy a subset of the proprerties and buils upon the functionality provided by the layers beneath."
   ]
  },
  {
   "cell_type": "markdown",
   "metadata": {},
   "source": [
    "##### 6. Why is it common to parallelize computation when you need to scale to more data in your system?"
   ]
  },
  {
   "cell_type": "markdown",
   "metadata": {},
   "source": [
    "This is given because of our technological limitations. CPUs in our era have very specific limitations related to their power, so parallelize is a very common practice to divide their job into several CPUs"
   ]
  },
  {
   "cell_type": "markdown",
   "metadata": {},
   "source": [
    "###### 7. Why are Elastic Clouds a trend in recent Big Data systems' technology?"
   ]
  },
  {
   "cell_type": "markdown",
   "metadata": {},
   "source": [
    "They allow you to rend hardware on demand rather than own your won hadware in your own location, besides, they can increase or decrease the size of your cluster as needed.\n",
    "They also siimplify dramatically your system's admiistration.\n",
    "Coupled with all that,they tend to be reall cheap (if your compare what they do to their price) "
   ]
  },
  {
   "cell_type": "markdown",
   "metadata": {},
   "source": [
    "###### 8. What are the five types of open source ecoysstem for Bid Data? Describe them "
   ]
  },
  {
   "cell_type": "markdown",
   "metadata": {},
   "source": [
    "* Batch computation systems: \n",
    "    - They can do nearly arbitrary computations, but they are high latency systems.\n",
    "* Serialization frameworks:\n",
    "    - They can serialize an object intoo a byte array from any language, and then desirialize that byte array into an object in any language. \n",
    "* Random-access NoSQL databases:\n",
    "    - They \"sacrifice\" the full expressiveness of SQL and instad specialize in certain kind of operations. All of them have an very specific usage and you know beforeheand what are you gonna do.\n",
    "* Messaging/quering systems:\n",
    "    - They provide a way to send and consume messages between processes in a fault-tolerant and asynchronous manner. A massage queue is a ey component for doing realtime processing. \n",
    "* Realtime computation system:\n",
    "    - They can't do the range of computations a batch-processing system can, but they process messages extremely quickly."
   ]
  },
  {
   "cell_type": "markdown",
   "metadata": {},
   "source": [
    "### Champter N. 2"
   ]
  },
  {
   "cell_type": "markdown",
   "metadata": {},
   "source": [
    "###### 1. Explain the following termns: Information, data, queries, views in termns of Big Data principles"
   ]
  },
  {
   "cell_type": "markdown",
   "metadata": {},
   "source": [
    "* Information:\n",
    "    + Is the general collection of knowledge relevant to your Big Data Sstem.\n",
    "* Data:\n",
    "    + Refers to the information that can't be derived from anything else. \n",
    "* Queries:\n",
    "    + Are questions to ask of your data.\n",
    "* Views:\n",
    "    + Are information that has been derived from your base data. "
   ]
  },
  {
   "cell_type": "markdown",
   "metadata": {},
   "source": [
    "###### 2. What are the two advantages that immutable schemas for Bid Data systems provide? "
   ]
  },
  {
   "cell_type": "markdown",
   "metadata": {},
   "source": [
    "* Human-ault tolerance\n",
    "* Simplicity "
   ]
  },
  {
   "cell_type": "markdown",
   "metadata": {},
   "source": [
    "###### 3. How is the data represented in the fact-based model?"
   ]
  },
  {
   "cell_type": "markdown",
   "metadata": {},
   "source": [
    "You deconstruct the data into fundamental units called facts"
   ]
  },
  {
   "cell_type": "markdown",
   "metadata": {},
   "source": [
    "###### 4. Name the advantajes of the fact-based model"
   ]
  },
  {
   "cell_type": "markdown",
   "metadata": {},
   "source": [
    "* The dataset is queryable at any time in its history\n",
    "* The data is human-fault tolerant\n",
    "* The dataset easily handles partial information\n",
    "* The data storage and query processing layers are separate"
   ]
  },
  {
   "cell_type": "markdown",
   "metadata": {},
   "source": [
    "###### 5. Name and describe the components of a graph schema "
   ]
  },
  {
   "cell_type": "markdown",
   "metadata": {},
   "source": [
    "* Nodes:\n",
    "    - This are the entities in the system.\n",
    "* Edges: \n",
    "    - They stand for the relationship between nodes\n",
    "* Propertines:\n",
    "    - This are information about entities. Is the information about the entities"
   ]
  },
  {
   "cell_type": "code",
   "execution_count": null,
   "metadata": {},
   "outputs": [],
   "source": []
  }
 ],
 "metadata": {
  "kernelspec": {
   "display_name": "Python 3",
   "language": "python",
   "name": "python3"
  },
  "language_info": {
   "codemirror_mode": {
    "name": "ipython",
    "version": 3
   },
   "file_extension": ".py",
   "mimetype": "text/x-python",
   "name": "python",
   "nbconvert_exporter": "python",
   "pygments_lexer": "ipython3",
   "version": "3.7.1"
  }
 },
 "nbformat": 4,
 "nbformat_minor": 2
}
